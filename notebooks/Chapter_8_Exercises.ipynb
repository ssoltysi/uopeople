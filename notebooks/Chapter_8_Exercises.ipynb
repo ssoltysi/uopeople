{
 "cells": [
  {
   "cell_type": "code",
   "execution_count": 1,
   "metadata": {
    "collapsed": false,
    "scrolled": true
   },
   "outputs": [
    {
     "name": "stdout",
     "output_type": "stream",
     "text": [
      "Calling print_reverse1\n",
      "r\n",
      "a\n",
      "b\n",
      "o\n",
      "o\n",
      "f\n",
      "r\n",
      "Calling print_reverse2\n",
      "f\n",
      "o\n",
      "o\n",
      "b\n",
      "a\n",
      "r\n"
     ]
    }
   ],
   "source": [
    "# Exercise 8.1\n",
    "\n",
    "def print_reverse1(word):\n",
    "    length = len(word)\n",
    "    \n",
    "    while length >= 0:\n",
    "        print(word[length - 1])\n",
    "        length += -1\n",
    "        \n",
    "def print_reverse2(word):\n",
    "    length = len(word)\n",
    "    \n",
    "    for i in range(length - 1, -1, -1):\n",
    "        print(word[i])\n",
    "              \n",
    "print(\"Calling print_reverse1\")    \n",
    "print_reverse1(\"foobar\")\n",
    "print(\"Calling print_reverse2\")   \n",
    "print_reverse2(\"raboof\")"
   ]
  },
  {
   "cell_type": "code",
   "execution_count": 2,
   "metadata": {
    "collapsed": false
   },
   "outputs": [
    {
     "name": "stdout",
     "output_type": "stream",
     "text": [
      "Jack\n",
      "Kack\n",
      "Lack\n",
      "Mack\n",
      "Nack\n",
      "Ouack\n",
      "Pack\n",
      "Quack\n"
     ]
    }
   ],
   "source": [
    "#Exercise 8.2\n",
    "\n",
    "prefixes = 'JKLMNOPQ'\n",
    "suffix = 'ack'\n",
    "for letter in prefixes:\n",
    "    if letter == 'Q' or letter == 'O':\n",
    "        print(letter + 'u' + suffix)\n",
    "    else:\n",
    "        print(letter + suffix)"
   ]
  },
  {
   "cell_type": "code",
   "execution_count": 3,
   "metadata": {
    "collapsed": false
   },
   "outputs": [
    {
     "data": {
      "text/plain": [
       "3"
      ]
     },
     "execution_count": 3,
     "metadata": {},
     "output_type": "execute_result"
    }
   ],
   "source": [
    "# Exercise 8.4\n",
    "\n",
    "def find(word, letter, i):\n",
    "    while i < len(word):\n",
    "        if word[i] == letter:\n",
    "            return i\n",
    "    \n",
    "        i += 1\n",
    "        \n",
    "    return -1\n",
    "\n",
    "find(\"abba\", 'a', 2)\n"
   ]
  },
  {
   "cell_type": "code",
   "execution_count": 4,
   "metadata": {
    "collapsed": false
   },
   "outputs": [
    {
     "name": "stdout",
     "output_type": "stream",
     "text": [
      "3\n"
     ]
    }
   ],
   "source": [
    "# Exercise 8.5\n",
    "\n",
    "def number_of_characters(word, char):\n",
    "    count = 0\n",
    "\n",
    "    for letter in word:\n",
    "        if letter == char:\n",
    "            count += 1\n",
    "\n",
    "    print(count)\n",
    "    \n",
    "number_of_characters(\"bannana\", 'a')"
   ]
  },
  {
   "cell_type": "code",
   "execution_count": 5,
   "metadata": {
    "collapsed": false
   },
   "outputs": [
    {
     "name": "stdout",
     "output_type": "stream",
     "text": [
      "3\n"
     ]
    }
   ],
   "source": [
    "# Exercise 8.6\n",
    "\n",
    "def number_of_characters_with_find(word, char):\n",
    "    size = len(word)\n",
    "    index = 0\n",
    "    count = 0\n",
    "    \n",
    "    # Use find to find character and then use find again to find\n",
    "    # next instance starting from the point where you found the last \n",
    "    # instance of the character.\n",
    "    while index != -1:\n",
    "        index = find(word, char, index)\n",
    "        \n",
    "        if index != -1:\n",
    "            count += 1\n",
    "            index += 1\n",
    "            \n",
    "    return count\n",
    "\n",
    "print(number_of_characters_with_find(\"bannana\", 'a'))        "
   ]
  },
  {
   "cell_type": "code",
   "execution_count": 6,
   "metadata": {
    "collapsed": false
   },
   "outputs": [
    {
     "name": "stdout",
     "output_type": "stream",
     "text": [
      "True\n",
      "False\n"
     ]
    }
   ],
   "source": [
    "# Exercise 8.9\n",
    "\n",
    "def is_palindrome(word):\n",
    "    return word == word[::-1]\n",
    "\n",
    "print(is_palindrome(\"abba\"))\n",
    "print(is_palindrome(\"foobar\"))"
   ]
  },
  {
   "cell_type": "code",
   "execution_count": 9,
   "metadata": {
    "collapsed": false
   },
   "outputs": [
    {
     "name": "stdout",
     "output_type": "stream",
     "text": [
      "bcd\n",
      "yza\n"
     ]
    }
   ],
   "source": [
    "# Exercise 8.12\n",
    "\n",
    "def rotate_phrase(phrase, offset):\n",
    "    phrase = phrase.lower()\n",
    "    new_phrase = \"\"\n",
    "    \n",
    "    for c in phrase:\n",
    "        # convert letter to number 1-26\n",
    "        pos_in_alphabet = ord(c)%97\n",
    "        \n",
    "        # find position of new word based upon offset\n",
    "        new_pos = (pos_in_alphabet + offset)%26\n",
    "        # convert position in alphabet to ascii number\n",
    "        new_char = new_pos + 97\n",
    "        new_phrase = new_phrase + chr(new_char)\n",
    "        \n",
    "    return new_phrase\n",
    "\n",
    "print(rotate_phrase(\"abc\", 1))\n",
    "print(rotate_phrase(\"xyz\", 1))"
   ]
  },
  {
   "cell_type": "code",
   "execution_count": null,
   "metadata": {
    "collapsed": true
   },
   "outputs": [],
   "source": []
  },
  {
   "cell_type": "code",
   "execution_count": null,
   "metadata": {
    "collapsed": true
   },
   "outputs": [],
   "source": []
  }
 ],
 "metadata": {
  "kernelspec": {
   "display_name": "Python 3",
   "language": "python",
   "name": "python3"
  },
  "language_info": {
   "codemirror_mode": {
    "name": "ipython",
    "version": 3
   },
   "file_extension": ".py",
   "mimetype": "text/x-python",
   "name": "python",
   "nbconvert_exporter": "python",
   "pygments_lexer": "ipython3",
   "version": "3.4.2"
  }
 },
 "nbformat": 4,
 "nbformat_minor": 0
}
