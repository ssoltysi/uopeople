{
 "cells": [
  {
   "cell_type": "markdown",
   "metadata": {},
   "source": [
    "##Week 5 Challenge- Iteration Versus Recursion"
   ]
  },
  {
   "cell_type": "markdown",
   "metadata": {},
   "source": [
    "In programming, iteration(a fancy name for looping using a for statement or while statemtent) and recursion are two sides of the same coin. Just about any problem that can be solved by iteration can also be solved by recursion. An example of this is the factorial problem.\n",
    "n factorial(also referred to as n!) is shorthand for n*(n-1)*(n-2)....*1\n",
    "\n",
    "Here are two functions that calculate n factorial. The first does it using iteration and the other uses recursion."
   ]
  },
  {
   "cell_type": "code",
   "execution_count": 10,
   "metadata": {
    "collapsed": false
   },
   "outputs": [
    {
     "data": {
      "text/plain": [
       "120"
      ]
     },
     "execution_count": 10,
     "metadata": {},
     "output_type": "execute_result"
    }
   ],
   "source": [
    "#This function uses iteration to find the value of n factorial\n",
    "def factorial_iter(n):\n",
    "    sum = 1\n",
    "    \n",
    "    #Iterate over list from n to 1\n",
    "    for i in range(n, 1, -1):\n",
    "        sum *=i\n",
    "        \n",
    "    return sum\n",
    "\n",
    "factorial_iter(5)"
   ]
  },
  {
   "cell_type": "code",
   "execution_count": 11,
   "metadata": {
    "collapsed": false
   },
   "outputs": [
    {
     "data": {
      "text/plain": [
       "120"
      ]
     },
     "execution_count": 11,
     "metadata": {},
     "output_type": "execute_result"
    }
   ],
   "source": [
    "#This function uses recursion to find the value of n factorial\n",
    "def factorial_recurse(n):\n",
    "    if n == 1:\n",
    "        return n\n",
    "    else:\n",
    "        return n*factorial_recurse(n-1)\n",
    "    \n",
    "factorial_recurse(5)"
   ]
  },
  {
   "cell_type": "markdown",
   "metadata": {},
   "source": [
    "##The Challenge: Palindromes"
   ]
  },
  {
   "cell_type": "markdown",
   "metadata": {},
   "source": [
    "A palindrome is any sequence of characters that is the same whether the characters are read forward or backward. An example of a palindrome would be the word \"radar\".\n",
    "\n",
    "The challenge is to write two functions that check whether a word is a palindrome or not. One function should use iteration, the other should use recursion.\n",
    "\n",
    "Below are the function signatures for the two functions you need to write:\n"
   ]
  },
  {
   "cell_type": "code",
   "execution_count": 8,
   "metadata": {
    "collapsed": true
   },
   "outputs": [],
   "source": [
    "def is_palindrome_iter(word):\n",
    "    pass"
   ]
  },
  {
   "cell_type": "code",
   "execution_count": 9,
   "metadata": {
    "collapsed": true
   },
   "outputs": [],
   "source": [
    "def is_palindrome_recurse(word):\n",
    "    pass"
   ]
  },
  {
   "cell_type": "markdown",
   "metadata": {
    "collapsed": true
   },
   "source": [
    "Here is some string manipulation that might be helpful:"
   ]
  },
  {
   "cell_type": "code",
   "execution_count": 3,
   "metadata": {
    "collapsed": false
   },
   "outputs": [
    {
     "name": "stdout",
     "output_type": "stream",
     "text": [
      "r\n",
      "rad\n"
     ]
    }
   ],
   "source": [
    "word = \"radar\"\n",
    "print(word[0])\n",
    "print(word[0:3])"
   ]
  },
  {
   "cell_type": "code",
   "execution_count": null,
   "metadata": {
    "collapsed": true
   },
   "outputs": [],
   "source": []
  }
 ],
 "metadata": {
  "kernelspec": {
   "display_name": "Python 3",
   "language": "python",
   "name": "python3"
  },
  "language_info": {
   "codemirror_mode": {
    "name": "ipython",
    "version": 3
   },
   "file_extension": ".py",
   "mimetype": "text/x-python",
   "name": "python",
   "nbconvert_exporter": "python",
   "pygments_lexer": "ipython3",
   "version": "3.4.2"
  }
 },
 "nbformat": 4,
 "nbformat_minor": 0
}
