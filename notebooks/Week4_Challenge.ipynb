{
 "cells": [
  {
   "cell_type": "markdown",
   "metadata": {},
   "source": [
    "#Function Generator Challenge"
   ]
  },
  {
   "cell_type": "markdown",
   "metadata": {},
   "source": [
    "One of the things that make python unique is the fact that functions are just another type, such as ints, floats and strings."
   ]
  },
  {
   "cell_type": "code",
   "execution_count": 1,
   "metadata": {
    "collapsed": false
   },
   "outputs": [
    {
     "name": "stdout",
     "output_type": "stream",
     "text": [
      "x is of type:  <class 'int'>\n",
      "func is of type <class 'function'>\n"
     ]
    }
   ],
   "source": [
    "x = 5\n",
    "\n",
    "def func():\n",
    "    print(\"HelloWorld\")\n",
    "    \n",
    "print('x is of type: ',type(x))\n",
    "print('func is of type', type(func))"
   ]
  },
  {
   "cell_type": "markdown",
   "metadata": {
    "collapsed": true
   },
   "source": [
    "This means that functions can be used as arguments to functions or as return values of functions just like any other type. Another thing about functions is that functions themselves can contain nested functions.\n",
    "* Functions can be used as a parameter to a function\n",
    "* A function can return a function as a return value\n",
    "* A function can have a nested function\n",
    "\n",
    "So as a silly example of a function with a nested function and which returns a function:"
   ]
  },
  {
   "cell_type": "code",
   "execution_count": 12,
   "metadata": {
    "collapsed": false
   },
   "outputs": [
    {
     "name": "stdout",
     "output_type": "stream",
     "text": [
      "Hello Dolly\n"
     ]
    }
   ],
   "source": [
    "def nested_func_test():\n",
    "    def nested_func(name):\n",
    "        print(\"Hello\", name)\n",
    "        \n",
    "    return nested_func\n",
    "\n",
    "func_val = nested_func_test()\n",
    "func_val(\"Dolly\")"
   ]
  },
  {
   "cell_type": "markdown",
   "metadata": {},
   "source": [
    "So as you can see, calling nested_func_test actually returns a function which you can then call passing in a name parameter."
   ]
  },
  {
   "cell_type": "markdown",
   "metadata": {},
   "source": [
    "##First Part of Challenge"
   ]
  },
  {
   "cell_type": "markdown",
   "metadata": {},
   "source": [
    "So here is the first part of the challenge. Let's say you are taking a math class and you decide to use python to do your homework. The homework requires you to create a table of inputs and outputs for a bunch of polynomial equations of degree 2, i.e.:\n",
    "y = a*(x**2) + b*(x) + c\n",
    "\n",
    "So you could write a python function for each equation to calculate your results like this:"
   ]
  },
  {
   "cell_type": "code",
   "execution_count": 13,
   "metadata": {
    "collapsed": false
   },
   "outputs": [
    {
     "data": {
      "text/plain": [
       "59"
      ]
     },
     "execution_count": 13,
     "metadata": {},
     "output_type": "execute_result"
    }
   ],
   "source": [
    "#function for polynomial 2x^2 + x + 4\n",
    "def func1(x):\n",
    "    return 2*(x**2) + x + 4\n",
    "\n",
    "func1(5)"
   ]
  },
  {
   "cell_type": "markdown",
   "metadata": {},
   "source": [
    "However writing a function for each polynomial might get tedious so instead you decide to write a function that returns a function that will caclulate the value for any polynomial of degree 2, just by passing in the coefficients for the polynomial as arguments for the function generator. The signature of the function would look like this:"
   ]
  },
  {
   "cell_type": "code",
   "execution_count": 15,
   "metadata": {
    "collapsed": false
   },
   "outputs": [],
   "source": [
    "#Generate a function of polynomial of order 2 by passing in coefficients for the polynomial\n",
    "def polynomial_degree2_generator(a, b, c):\n",
    "    #Implementation is left as part of the exercise\n",
    "    pass\n",
    "\n",
    "func2 = polynomial_degree2_generator(1,2,3)\n",
    "func2(4)"
   ]
  },
  {
   "cell_type": "markdown",
   "metadata": {},
   "source": [
    "##Second Part of Challenge"
   ]
  },
  {
   "cell_type": "markdown",
   "metadata": {},
   "source": [
    "Now that you have created a function that generates polynomial functions of order 2, here is the next challenge. Create a function that generates functions that will calculate the values for a polynomial of ANY order. The signature would look like this:"
   ]
  },
  {
   "cell_type": "code",
   "execution_count": 8,
   "metadata": {
    "collapsed": true
   },
   "outputs": [],
   "source": [
    "def polynomial_generator(*args):\n",
    "    #implementation left as part of exercise\n",
    "    pass\n",
    "\n",
    "func3 = polynomial_generator(4,2,5,1)\n",
    "func3(5)"
   ]
  },
  {
   "cell_type": "markdown",
   "metadata": {},
   "source": [
    "There are a couple of things that will be help to know before implementing this function:\n",
    "* The first thing is that python allows you to define a function that takes an unlimited number of arguments. This is done by placing the * character in front of a parameter name.\n",
    "* The other thing that is helpful to understand is the python for loop which can be used to iterate over elements in a list. \n",
    "\n",
    "Here is an example of these two features:"
   ]
  },
  {
   "cell_type": "code",
   "execution_count": 11,
   "metadata": {
    "collapsed": false
   },
   "outputs": [
    {
     "name": "stdout",
     "output_type": "stream",
     "text": [
      "1\n",
      "4\n",
      "9\n",
      "16\n",
      "25\n"
     ]
    }
   ],
   "source": [
    "def as_many_args_as_you_want(*args):\n",
    "    for arg in args:\n",
    "        print(arg**2)\n",
    "\n",
    "as_many_args_as_you_want(1,2,3,4,5)"
   ]
  },
  {
   "cell_type": "markdown",
   "metadata": {},
   "source": [
    " "
   ]
  }
 ],
 "metadata": {
  "kernelspec": {
   "display_name": "Python 3",
   "language": "python",
   "name": "python3"
  },
  "language_info": {
   "codemirror_mode": {
    "name": "ipython",
    "version": 3
   },
   "file_extension": ".py",
   "mimetype": "text/x-python",
   "name": "python",
   "nbconvert_exporter": "python",
   "pygments_lexer": "ipython3",
   "version": "3.4.2"
  }
 },
 "nbformat": 4,
 "nbformat_minor": 0
}
