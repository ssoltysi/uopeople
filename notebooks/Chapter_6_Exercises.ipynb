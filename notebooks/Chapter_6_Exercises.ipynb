{
 "cells": [
  {
   "cell_type": "markdown",
   "metadata": {},
   "source": [
    "#Chapter 6 Solutions"
   ]
  },
  {
   "cell_type": "code",
   "execution_count": 2,
   "metadata": {
    "collapsed": false
   },
   "outputs": [
    {
     "name": "stdout",
     "output_type": "stream",
     "text": [
      "5.0\n",
      "18.35755975068582\n"
     ]
    }
   ],
   "source": [
    "# Exercise 6.2\n",
    "import math\n",
    "\n",
    "def length_of_hypotenuse(side_a, side_b):\n",
    "    c_squared = side_a**2 + side_b**2\n",
    "    side_c = math.sqrt(c_squared)\n",
    "    \n",
    "    return side_c\n",
    "\n",
    "print(length_of_hypotenuse(3,4))\n",
    "print(length_of_hypotenuse(9,16))"
   ]
  },
  {
   "cell_type": "code",
   "execution_count": 4,
   "metadata": {
    "collapsed": false
   },
   "outputs": [
    {
     "name": "stdout",
     "output_type": "stream",
     "text": [
      "True\n",
      "False\n",
      "False\n"
     ]
    }
   ],
   "source": [
    "# Exercise 6.3\n",
    "def is_between(x, y, z):\n",
    "    return y >= x and y <= z\n",
    "\n",
    "print(is_between(1,2,3))\n",
    "print(is_between(5,2,3))\n",
    "print(is_between(1,3,2))"
   ]
  },
  {
   "cell_type": "code",
   "execution_count": 4,
   "metadata": {
    "collapsed": false
   },
   "outputs": [
    {
     "data": {
      "text/plain": [
       "125"
      ]
     },
     "execution_count": 4,
     "metadata": {},
     "output_type": "execute_result"
    }
   ],
   "source": [
    "# Exercise 6.5\n",
    "def ackerman(m, n):\n",
    "    if m == 0:\n",
    "        return n + 1\n",
    "    elif m > 0 and n == 0:\n",
    "        return ackerman(m - 1,1)\n",
    "    elif m > 0 and n > 0:\n",
    "        return ackerman(m - 1, ackerman(m, n - 1))\n",
    "    \n",
    "ackerman(3, 4)"
   ]
  },
  {
   "cell_type": "code",
   "execution_count": 10,
   "metadata": {
    "collapsed": false
   },
   "outputs": [
    {
     "name": "stdout",
     "output_type": "stream",
     "text": [
      "True\n",
      "False\n",
      "False\n"
     ]
    }
   ],
   "source": [
    "# Exercise 6.6\n",
    "def first(word):\n",
    "    return word[0]\n",
    "\n",
    "def last(word):\n",
    "    return word[-1]\n",
    "\n",
    "def middle(word):\n",
    "    return word[1:-1]\n",
    "\n",
    "def is_palindrome(word):\n",
    "    if len(word) < 2:\n",
    "        return True\n",
    "    elif first(word) != last(word):\n",
    "        return False\n",
    "    else:\n",
    "        return is_palindrome(middle(word))\n",
    "    \n",
    "print(is_palindrome(\"radar\"))\n",
    "print(is_palindrome(\"foobar\"))\n",
    "print(is_palindrome(\"abcnotcba\"))\n"
   ]
  },
  {
   "cell_type": "code",
   "execution_count": 16,
   "metadata": {
    "collapsed": false
   },
   "outputs": [
    {
     "name": "stdout",
     "output_type": "stream",
     "text": [
      "True\n",
      "True\n",
      "False\n"
     ]
    }
   ],
   "source": [
    "# Exercise 6.7\n",
    "def is_power(a, b):\n",
    "    if a == b:\n",
    "        return True\n",
    "    elif a%b != 0:\n",
    "        return False\n",
    "    else:\n",
    "        return is_power(a/b, b)\n",
    "\n",
    "print(is_power(9, 3))\n",
    "print(is_power(256, 4))\n",
    "print(is_power(75, 5))\n"
   ]
  },
  {
   "cell_type": "code",
   "execution_count": 19,
   "metadata": {
    "collapsed": false
   },
   "outputs": [
    {
     "name": "stdout",
     "output_type": "stream",
     "text": [
      "5\n",
      "4\n",
      "1\n"
     ]
    }
   ],
   "source": [
    "def gcd(a, b):\n",
    "    if b == 0:\n",
    "        return a\n",
    "    else:\n",
    "        return gcd(b, a%b)\n",
    "    \n",
    "print(gcd(5, 25))\n",
    "print(gcd(16, 100))\n",
    "print(gcd(7, 53))"
   ]
  },
  {
   "cell_type": "code",
   "execution_count": null,
   "metadata": {
    "collapsed": true
   },
   "outputs": [],
   "source": []
  }
 ],
 "metadata": {
  "kernelspec": {
   "display_name": "Python 3",
   "language": "python",
   "name": "python3"
  },
  "language_info": {
   "codemirror_mode": {
    "name": "ipython",
    "version": 3
   },
   "file_extension": ".py",
   "mimetype": "text/x-python",
   "name": "python",
   "nbconvert_exporter": "python",
   "pygments_lexer": "ipython3",
   "version": "3.4.2"
  }
 },
 "nbformat": 4,
 "nbformat_minor": 0
}
