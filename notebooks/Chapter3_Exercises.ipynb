{
 "cells": [
  {
   "cell_type": "markdown",
   "metadata": {},
   "source": [
    "#Think Pytyon, Chapter 3 Exercises"
   ]
  },
  {
   "cell_type": "markdown",
   "metadata": {},
   "source": [
    "##Exercise 3.3"
   ]
  },
  {
   "cell_type": "code",
   "execution_count": 19,
   "metadata": {
    "collapsed": false
   },
   "outputs": [
    {
     "name": "stdout",
     "output_type": "stream",
     "text": [
      "                                                                  foobar\n",
      "                           The rain in Spain, stays mainly in the plain.\n"
     ]
    }
   ],
   "source": [
    "#function to right justify a word\n",
    "#Insert (71 - number of characters in word) spaces and then print word\n",
    "def right_justify(s):\n",
    "    #first character is 0 so character in position 70 is 71st character\n",
    "    characters_in_line = 71\n",
    "    size = len(s)\n",
    "    print(' '*(71 - size), s)\n",
    "    \n",
    "right_justify(\"foobar\")\n",
    "right_justify(\"The rain in Spain, stays mainly in the plain.\")"
   ]
  },
  {
   "cell_type": "markdown",
   "metadata": {},
   "source": [
    "##Exercise 3.4"
   ]
  },
  {
   "cell_type": "code",
   "execution_count": 18,
   "metadata": {
    "collapsed": false
   },
   "outputs": [
    {
     "name": "stdout",
     "output_type": "stream",
     "text": [
      "spam\n",
      "spam\n",
      "spam\n",
      "spam\n",
      "spam\n",
      "spam\n",
      "spam\n",
      "spam\n"
     ]
    }
   ],
   "source": [
    "#call the function f twice\n",
    "def do_twice(f, val):\n",
    "    f(val)\n",
    "    f(val)\n",
    "\n",
    "#print a value twice\n",
    "def print_twice(val):\n",
    "    print(val)\n",
    "    print(val)\n",
    "    \n",
    "#call function f four times\n",
    "def do_four(f, val):\n",
    "    do_twice(f, val)\n",
    "    do_twice(f, val)\n",
    "    \n",
    "do_four(print_twice, 'spam')"
   ]
  },
  {
   "cell_type": "markdown",
   "metadata": {},
   "source": [
    "## Exercise 3.5"
   ]
  },
  {
   "cell_type": "code",
   "execution_count": 6,
   "metadata": {
    "collapsed": false
   },
   "outputs": [
    {
     "name": "stdout",
     "output_type": "stream",
     "text": [
      "+ - - - - + - - - - +\n"
     ]
    }
   ],
   "source": [
    "#print row of - and + characters. This depends on number of \n",
    "#squares in each side of larger square\n",
    "\n",
    "def print_plus_minus_row(number_of_squares):\n",
    "    print('+', end=\"\")\n",
    "    print((\" - - - - +\")*number_of_squares)\n",
    "\n",
    "print_plus_minus_row(2)"
   ]
  },
  {
   "cell_type": "code",
   "execution_count": 7,
   "metadata": {
    "collapsed": false
   },
   "outputs": [
    {
     "name": "stdout",
     "output_type": "stream",
     "text": [
      "|         |         |\n"
     ]
    }
   ],
   "source": [
    "#print row of | characters. This depends on number of \n",
    "#squares in each side of larger square.\n",
    "def print_row_of_vertical_chars(number_of_squares_per_side):\n",
    "    print('|', end=\"\")\n",
    "    print((\"         |\")*number_of_squares_per_side)\n",
    "    \n",
    "print_row_of_vertical_chars(2)"
   ]
  },
  {
   "cell_type": "code",
   "execution_count": 8,
   "metadata": {
    "collapsed": false
   },
   "outputs": [
    {
     "name": "stdout",
     "output_type": "stream",
     "text": [
      "|         |         |\n",
      "|         |         |\n",
      "|         |         |\n",
      "|         |         |\n",
      "+ - - - - + - - - - +\n"
     ]
    }
   ],
   "source": [
    "#print out a row of squares. This doees not include first\n",
    "#row of +,- characters as this is not a repeated pattern\n",
    "#This function uses a for loop and the range function so \n",
    "#that the function is more generic.\n",
    "\n",
    "def print_row_of_squares(number_of_squares_per_side):\n",
    "    #print 4 rows of | characters\n",
    "    rows_of_vertical_chars = 4\n",
    "    for i in range(rows_of_vertical_chars):\n",
    "        print_row_of_vertical_chars(number_of_squares_per_side)\n",
    "\n",
    "    #now print row of +,- characters\n",
    "    print_plus_minus_row(number_of_squares_per_side)\n",
    "    \n",
    "print_row_of_squares(2)"
   ]
  },
  {
   "cell_type": "code",
   "execution_count": 9,
   "metadata": {
    "collapsed": false
   },
   "outputs": [
    {
     "name": "stdout",
     "output_type": "stream",
     "text": [
      "1x1 grid\n",
      "+ - - - - +\n",
      "|         |\n",
      "|         |\n",
      "|         |\n",
      "|         |\n",
      "+ - - - - +\n",
      "2x2 grid\n",
      "+ - - - - + - - - - +\n",
      "|         |         |\n",
      "|         |         |\n",
      "|         |         |\n",
      "|         |         |\n",
      "+ - - - - + - - - - +\n",
      "|         |         |\n",
      "|         |         |\n",
      "|         |         |\n",
      "|         |         |\n",
      "+ - - - - + - - - - +\n",
      "3x3 grid\n",
      "+ - - - - + - - - - + - - - - +\n",
      "|         |         |         |\n",
      "|         |         |         |\n",
      "|         |         |         |\n",
      "|         |         |         |\n",
      "+ - - - - + - - - - + - - - - +\n",
      "|         |         |         |\n",
      "|         |         |         |\n",
      "|         |         |         |\n",
      "|         |         |         |\n",
      "+ - - - - + - - - - + - - - - +\n",
      "|         |         |         |\n",
      "|         |         |         |\n",
      "|         |         |         |\n",
      "|         |         |         |\n",
      "+ - - - - + - - - - + - - - - +\n",
      "4x4 grid\n",
      "+ - - - - + - - - - + - - - - + - - - - +\n",
      "|         |         |         |         |\n",
      "|         |         |         |         |\n",
      "|         |         |         |         |\n",
      "|         |         |         |         |\n",
      "+ - - - - + - - - - + - - - - + - - - - +\n",
      "|         |         |         |         |\n",
      "|         |         |         |         |\n",
      "|         |         |         |         |\n",
      "|         |         |         |         |\n",
      "+ - - - - + - - - - + - - - - + - - - - +\n",
      "|         |         |         |         |\n",
      "|         |         |         |         |\n",
      "|         |         |         |         |\n",
      "|         |         |         |         |\n",
      "+ - - - - + - - - - + - - - - + - - - - +\n",
      "|         |         |         |         |\n",
      "|         |         |         |         |\n",
      "|         |         |         |         |\n",
      "|         |         |         |         |\n",
      "+ - - - - + - - - - + - - - - + - - - - +\n"
     ]
    }
   ],
   "source": [
    "#print the entire grid of NxN squares\n",
    "#This function uses a for loop and the range function so \n",
    "#that the function is more generic.\n",
    "\n",
    "def print_grid(number_of_squares_per_side):\n",
    "    #print first row of +,- characters as this is non-repeated special case\n",
    "    print_plus_minus_row(number_of_squares_per_side)\n",
    "    \n",
    "    #print rows of squares\n",
    "    for i in range(number_of_squares_per_side):\n",
    "        print_row_of_squares(number_of_squares_per_side)\n",
    "        \n",
    "print(\"1x1 grid\")\n",
    "print_grid(1)\n",
    "print(\"2x2 grid\")\n",
    "print_grid(2)\n",
    "print(\"3x3 grid\")\n",
    "print_grid(3)\n",
    "print(\"4x4 grid\")\n",
    "print_grid(4)"
   ]
  },
  {
   "cell_type": "code",
   "execution_count": null,
   "metadata": {
    "collapsed": true
   },
   "outputs": [],
   "source": []
  },
  {
   "cell_type": "code",
   "execution_count": null,
   "metadata": {
    "collapsed": true
   },
   "outputs": [],
   "source": []
  }
 ],
 "metadata": {
  "kernelspec": {
   "display_name": "Python 3",
   "language": "python",
   "name": "python3"
  },
  "language_info": {
   "codemirror_mode": {
    "name": "ipython",
    "version": 3
   },
   "file_extension": ".py",
   "mimetype": "text/x-python",
   "name": "python",
   "nbconvert_exporter": "python",
   "pygments_lexer": "ipython3",
   "version": "3.4.2"
  }
 },
 "nbformat": 4,
 "nbformat_minor": 0
}
