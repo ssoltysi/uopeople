{
 "cells": [
  {
   "cell_type": "markdown",
   "metadata": {},
   "source": [
    "##Chapter 7 Exercises"
   ]
  },
  {
   "cell_type": "code",
   "execution_count": 3,
   "metadata": {
    "collapsed": false
   },
   "outputs": [
    {
     "name": "stdout",
     "output_type": "stream",
     "text": [
      "bird\n",
      "bird\n",
      "bird\n",
      "bird\n"
     ]
    }
   ],
   "source": [
    "# Exercise 7.1\n",
    "def print_n(word, n):\n",
    "    while n > 0:\n",
    "        print(word)\n",
    "        n -= 1\n",
    "        \n",
    "print_n(\"bird\", 4)"
   ]
  },
  {
   "cell_type": "code",
   "execution_count": 4,
   "metadata": {
    "collapsed": false
   },
   "outputs": [
    {
     "name": "stdout",
     "output_type": "stream",
     "text": [
      "Enter python expression to evaluate:sdf\n",
      "sdf  not a valid expression\n",
      "Enter python expression to evaluate:\"apples\"[2:5]\n",
      "ple\n",
      "Enter python expression to evaluate:2+8\n",
      "10\n",
      "Enter python expression to evaluate:done\n"
     ]
    }
   ],
   "source": [
    "# Exercise 7.3\n",
    "def input_loop():\n",
    "    while True:\n",
    "        expr = input(\"Enter python expression to evaluate:\")\n",
    "        if expr == \"done\":\n",
    "            break\n",
    "\n",
    "        try:\n",
    "            result = eval(expr)\n",
    "            print(result)\n",
    "        except (NameError, SyntaxError):\n",
    "            print(expr, \" not a valid expression\")\n",
    "            \n",
    "input_loop()"
   ]
  },
  {
   "cell_type": "code",
   "execution_count": 7,
   "metadata": {
    "collapsed": false
   },
   "outputs": [
    {
     "name": "stdout",
     "output_type": "stream",
     "text": [
      "Pi Estimator: 3.1415927300133055\n",
      "Pi: 3.141592653589793\n"
     ]
    }
   ],
   "source": [
    "# Exercise 7.5\n",
    "import math\n",
    "import sys\n",
    "\n",
    "def value_inside_summation(k):\n",
    "    numer = (math.factorial(4*k))*(1103+26390*k)\n",
    "    denom = (math.factorial(k)**4)*(396**(4*k))\n",
    "    val = numer/denom\n",
    "\n",
    "    return val\n",
    "\n",
    "def pi_estimator(max_of_smallest_element):\n",
    "    const = 2*math.sqrt(2)/9801\n",
    "    element_in_sum = sys.float_info.max\n",
    "    sum = 0\n",
    "    k = 0\n",
    "\n",
    "    while element_in_sum > max_of_smallest_element:\n",
    "        element_in_sum = value_inside_summation(k)        \n",
    "        sum += element_in_sum\n",
    "        one_over_pi = const*sum\n",
    "        pi = 1/one_over_pi\n",
    "        k += 1\n",
    "\n",
    "        return pi\n",
    "\n",
    "print(\"Pi Estimator:\", pi_estimator(10**(-15)))\n",
    "print(\"Pi:\", math.pi)\n"
   ]
  },
  {
   "cell_type": "code",
   "execution_count": null,
   "metadata": {
    "collapsed": true
   },
   "outputs": [],
   "source": []
  }
 ],
 "metadata": {
  "kernelspec": {
   "display_name": "Python 3",
   "language": "python",
   "name": "python3"
  },
  "language_info": {
   "codemirror_mode": {
    "name": "ipython",
    "version": 3
   },
   "file_extension": ".py",
   "mimetype": "text/x-python",
   "name": "python",
   "nbconvert_exporter": "python",
   "pygments_lexer": "ipython3",
   "version": "3.4.2"
  }
 },
 "nbformat": 4,
 "nbformat_minor": 0
}
