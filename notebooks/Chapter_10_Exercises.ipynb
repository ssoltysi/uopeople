{
 "cells": [
  {
   "cell_type": "code",
   "execution_count": 2,
   "metadata": {
    "collapsed": false
   },
   "outputs": [
    {
     "name": "stdout",
     "output_type": "stream",
     "text": [
      "[1, 3, 6]\n"
     ]
    }
   ],
   "source": [
    "# Exercise 10.1 Write a function that takes a list of numbers and \n",
    "# returns the cumulative sum; that is, a new list where the \n",
    "# ith element is the sum of the first i+1 elements from the \n",
    "# original list. For example, the cumulative sum of [1, 2, 3] is [1, 3, 6].\n",
    "\n",
    "def cumalative_list(list):\n",
    "    sum = 0\n",
    "    new_list = []\n",
    "    \n",
    "    for num in list:\n",
    "        sum += num\n",
    "        new_list.append(sum)\n",
    "        \n",
    "    return new_list\n",
    "\n",
    "print(cumalative_list([1, 2, 3]))    "
   ]
  },
  {
   "cell_type": "code",
   "execution_count": 3,
   "metadata": {
    "collapsed": false
   },
   "outputs": [
    {
     "name": "stdout",
     "output_type": "stream",
     "text": [
      "[2, 3, 4]\n",
      "[2, 3, 4]\n"
     ]
    }
   ],
   "source": [
    "# Exercise 10.2 Write a function called chop that takes a list and \n",
    "# modifies it, removing the first and last elements, and returns None.\n",
    "# \n",
    "# Then write a function called middle that takes a list and returns \n",
    "# a new list that contains all but the first and last elements.\n",
    "\n",
    "def chop(list):\n",
    "    del list[0]\n",
    "    del list[len(list) - 1]\n",
    "    \n",
    "def middle(list):\n",
    "    return list[1:len(list) - 1]\n",
    "    \n",
    "l = [1, 2, 3, 4, 5]\n",
    "chop(l)\n",
    "print(l)\n",
    "\n",
    "l = [1, 2, 3, 4, 5]\n",
    "print(middle(l))"
   ]
  },
  {
   "cell_type": "code",
   "execution_count": 5,
   "metadata": {
    "collapsed": false
   },
   "outputs": [
    {
     "name": "stdout",
     "output_type": "stream",
     "text": [
      "False\n",
      "True\n"
     ]
    }
   ],
   "source": [
    "# Exercise 10.3 Write a function called is_sorted that takes a \n",
    "# list as a parameter and returns True if the list is sorted in\n",
    "# ascending order and False otherwise. You can assume (as a precondition) \n",
    "# that the elements of the list can be compared with the relational \n",
    "# operators <, >, etc. For example, is_sorted([1,2,2]) should return \n",
    "# True and is_sorted(['b','a']) should return False.\n",
    "\n",
    "def is_sorted(list):\n",
    "    i = 0\n",
    "    \n",
    "    while i < len(list) - 1:\n",
    "        if list[i + 1] < list[i]:\n",
    "            return False\n",
    "        else:\n",
    "            i += 1\n",
    "        \n",
    "    return True\n",
    "\n",
    "print(is_sorted([1,2,3,7,4,5]))\n",
    "print(is_sorted(['a', 'm', 'q', 'v']))"
   ]
  },
  {
   "cell_type": "code",
   "execution_count": 7,
   "metadata": {
    "collapsed": false
   },
   "outputs": [
    {
     "name": "stdout",
     "output_type": "stream",
     "text": [
      "True\n",
      "False\n"
     ]
    }
   ],
   "source": [
    "# Exercise 10.4 Two words are anagrams if you can rearrange the letters\n",
    "# from one to spell the other. Write a function called is_anagram that \n",
    "# takes two strings and returns True if they are anagrams.\n",
    "\n",
    "def is_anagram(word1, word2):\n",
    "    if len(word1) != len(word2):\n",
    "        return False\n",
    "    \n",
    "    word1_list = list(word1)\n",
    "    word2_list = list(word2)\n",
    "    \n",
    "    word1_list.sort()\n",
    "    word2_list.sort()\n",
    "    \n",
    "    for i in range(len(word1)):\n",
    "        if word1_list[i] != word2_list[i]:\n",
    "            return False\n",
    "        \n",
    "    return True\n",
    "\n",
    "print(is_anagram(\"aabcddeee\", \"ddaabceee\"))\n",
    "print(is_anagram(\"aabcddeee\", \"adaabceee\"))\n",
    "    "
   ]
  },
  {
   "cell_type": "code",
   "execution_count": 10,
   "metadata": {
    "collapsed": false
   },
   "outputs": [
    {
     "name": "stdout",
     "output_type": "stream",
     "text": [
      "['a', 'b', 'c', 'd']\n"
     ]
    }
   ],
   "source": [
    "# Exercise 10.6 Write a function called remove_duplicates that \n",
    "# takes a list and returns a new list with only the unique elements\n",
    "# from the original. Hint: they don’t have to be in the same order.\n",
    "\n",
    "def remove_duplicates(list):\n",
    "    list.sort()\n",
    "    element = None\n",
    "    unique_list = []\n",
    "    \n",
    "    for i in list:\n",
    "        if i != element:\n",
    "            unique_list.append(i)\n",
    "            element = i\n",
    "            \n",
    "    return unique_list\n",
    "\n",
    "\n",
    "print(remove_duplicates(['a', 'a', 'a', 'b', 'c','c', 'd']))"
   ]
  },
  {
   "cell_type": "code",
   "execution_count": 33,
   "metadata": {
    "collapsed": false
   },
   "outputs": [
    {
     "name": "stdout",
     "output_type": "stream",
     "text": [
      "6\n",
      "7\n",
      "0\n",
      "None\n"
     ]
    }
   ],
   "source": [
    "# Exercise 10.8 To check whether a word is in the word list, you could use \n",
    "# the in operator, but it would be slow because it searches through the \n",
    "# words in order. Because the words are in alphabetical order, we can speed \n",
    "# things up with a bisection search (also known as binary search), which is\n",
    "# similar to what you do when you look a word up in the dictionary. You start \n",
    "# in the middle and check to see whether the word you are looking for comes \n",
    "# before the word in the middle of the list. If so, then you search the first \n",
    "# half of the list the same way. Otherwise you search the second half.\n",
    "# Either way, you cut the remaining search space in half. If the word list has \n",
    "# 113,809 words, it will take about 17 steps to find the word or conclude that \n",
    "# it’s not there.\n",
    "\n",
    "# Write a function called bisect that takes a sorted list and a target value and \n",
    "# returns the index of the value in the list, if it’s there, or None if it’s not.\n",
    "\n",
    "def bisect(list, val):\n",
    "    if len(list) == 1:\n",
    "        if list[0] == val:\n",
    "            return 0\n",
    "        else:\n",
    "            return None\n",
    "    \n",
    "    mid = len(list)//2\n",
    "    \n",
    "    if list[mid] == val:  \n",
    "        return mid\n",
    "    \n",
    "    if val > list[mid]:\n",
    "        pos = bisect(list[mid + 1:len(list)], val)\n",
    "        if pos == None:\n",
    "            return None\n",
    "        else:\n",
    "            return mid + 1 + pos\n",
    "    else:\n",
    "        pos = bisect(list[0:mid], val)\n",
    "        if pos == None:\n",
    "            return None\n",
    "        else:\n",
    "            return pos\n",
    "    \n",
    "print(bisect([1,2,3,4,5,6,7,8,9], 7))\n",
    "print(bisect([1,2,3,4,5,6,7,8,9], 8))\n",
    "print(bisect([1,2,3,4,5,6,7,8,9], 1))\n",
    "print(bisect([1,2,3,4,5,6,7,8,9], 11))"
   ]
  }
 ],
 "metadata": {
  "kernelspec": {
   "display_name": "Python 3",
   "language": "python",
   "name": "python3"
  },
  "language_info": {
   "codemirror_mode": {
    "name": "ipython",
    "version": 3
   },
   "file_extension": ".py",
   "mimetype": "text/x-python",
   "name": "python",
   "nbconvert_exporter": "python",
   "pygments_lexer": "ipython3",
   "version": "3.4.2"
  }
 },
 "nbformat": 4,
 "nbformat_minor": 0
}
